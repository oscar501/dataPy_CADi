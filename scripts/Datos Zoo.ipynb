{
 "cells": [
  {
   "cell_type": "code",
   "execution_count": 1,
   "metadata": {},
   "outputs": [],
   "source": [
    "import seaborn as sns\n",
    "import matplotlib.pyplot as plt\n",
    "import pandas as pd\n",
    "import numpy as np\n",
    "%matplotlib inline"
   ]
  },
  {
   "cell_type": "code",
   "execution_count": 2,
   "metadata": {},
   "outputs": [
    {
     "data": {
      "text/html": [
       "<div>\n",
       "<style scoped>\n",
       "    .dataframe tbody tr th:only-of-type {\n",
       "        vertical-align: middle;\n",
       "    }\n",
       "\n",
       "    .dataframe tbody tr th {\n",
       "        vertical-align: top;\n",
       "    }\n",
       "\n",
       "    .dataframe thead th {\n",
       "        text-align: right;\n",
       "    }\n",
       "</style>\n",
       "<table border=\"1\" class=\"dataframe\">\n",
       "  <thead>\n",
       "    <tr style=\"text-align: right;\">\n",
       "      <th></th>\n",
       "      <th>animal</th>\n",
       "      <th>uniq_id</th>\n",
       "      <th>water_need</th>\n",
       "    </tr>\n",
       "  </thead>\n",
       "  <tbody>\n",
       "    <tr>\n",
       "      <th>0</th>\n",
       "      <td>elephant</td>\n",
       "      <td>1001</td>\n",
       "      <td>500</td>\n",
       "    </tr>\n",
       "    <tr>\n",
       "      <th>1</th>\n",
       "      <td>elephant</td>\n",
       "      <td>1002</td>\n",
       "      <td>600</td>\n",
       "    </tr>\n",
       "    <tr>\n",
       "      <th>2</th>\n",
       "      <td>elephant</td>\n",
       "      <td>1003</td>\n",
       "      <td>550</td>\n",
       "    </tr>\n",
       "    <tr>\n",
       "      <th>3</th>\n",
       "      <td>tiger</td>\n",
       "      <td>1004</td>\n",
       "      <td>300</td>\n",
       "    </tr>\n",
       "    <tr>\n",
       "      <th>4</th>\n",
       "      <td>tiger</td>\n",
       "      <td>1005</td>\n",
       "      <td>320</td>\n",
       "    </tr>\n",
       "    <tr>\n",
       "      <th>5</th>\n",
       "      <td>tiger</td>\n",
       "      <td>1006</td>\n",
       "      <td>330</td>\n",
       "    </tr>\n",
       "    <tr>\n",
       "      <th>6</th>\n",
       "      <td>tiger</td>\n",
       "      <td>1007</td>\n",
       "      <td>290</td>\n",
       "    </tr>\n",
       "    <tr>\n",
       "      <th>7</th>\n",
       "      <td>tiger</td>\n",
       "      <td>1008</td>\n",
       "      <td>310</td>\n",
       "    </tr>\n",
       "    <tr>\n",
       "      <th>8</th>\n",
       "      <td>zebra</td>\n",
       "      <td>1009</td>\n",
       "      <td>200</td>\n",
       "    </tr>\n",
       "    <tr>\n",
       "      <th>9</th>\n",
       "      <td>zebra</td>\n",
       "      <td>1010</td>\n",
       "      <td>220</td>\n",
       "    </tr>\n",
       "    <tr>\n",
       "      <th>10</th>\n",
       "      <td>zebra</td>\n",
       "      <td>1011</td>\n",
       "      <td>240</td>\n",
       "    </tr>\n",
       "    <tr>\n",
       "      <th>11</th>\n",
       "      <td>zebra</td>\n",
       "      <td>1012</td>\n",
       "      <td>230</td>\n",
       "    </tr>\n",
       "    <tr>\n",
       "      <th>12</th>\n",
       "      <td>zebra</td>\n",
       "      <td>1013</td>\n",
       "      <td>220</td>\n",
       "    </tr>\n",
       "    <tr>\n",
       "      <th>13</th>\n",
       "      <td>zebra</td>\n",
       "      <td>1014</td>\n",
       "      <td>100</td>\n",
       "    </tr>\n",
       "    <tr>\n",
       "      <th>14</th>\n",
       "      <td>zebra</td>\n",
       "      <td>1015</td>\n",
       "      <td>80</td>\n",
       "    </tr>\n",
       "    <tr>\n",
       "      <th>15</th>\n",
       "      <td>lion</td>\n",
       "      <td>1016</td>\n",
       "      <td>420</td>\n",
       "    </tr>\n",
       "    <tr>\n",
       "      <th>16</th>\n",
       "      <td>lion</td>\n",
       "      <td>1017</td>\n",
       "      <td>600</td>\n",
       "    </tr>\n",
       "    <tr>\n",
       "      <th>17</th>\n",
       "      <td>lion</td>\n",
       "      <td>1018</td>\n",
       "      <td>500</td>\n",
       "    </tr>\n",
       "    <tr>\n",
       "      <th>18</th>\n",
       "      <td>lion</td>\n",
       "      <td>1019</td>\n",
       "      <td>390</td>\n",
       "    </tr>\n",
       "    <tr>\n",
       "      <th>19</th>\n",
       "      <td>kangaroo</td>\n",
       "      <td>1020</td>\n",
       "      <td>410</td>\n",
       "    </tr>\n",
       "    <tr>\n",
       "      <th>20</th>\n",
       "      <td>kangaroo</td>\n",
       "      <td>1021</td>\n",
       "      <td>430</td>\n",
       "    </tr>\n",
       "    <tr>\n",
       "      <th>21</th>\n",
       "      <td>kangaroo</td>\n",
       "      <td>1022</td>\n",
       "      <td>410</td>\n",
       "    </tr>\n",
       "  </tbody>\n",
       "</table>\n",
       "</div>"
      ],
      "text/plain": [
       "      animal  uniq_id  water_need\n",
       "0   elephant     1001         500\n",
       "1   elephant     1002         600\n",
       "2   elephant     1003         550\n",
       "3      tiger     1004         300\n",
       "4      tiger     1005         320\n",
       "5      tiger     1006         330\n",
       "6      tiger     1007         290\n",
       "7      tiger     1008         310\n",
       "8      zebra     1009         200\n",
       "9      zebra     1010         220\n",
       "10     zebra     1011         240\n",
       "11     zebra     1012         230\n",
       "12     zebra     1013         220\n",
       "13     zebra     1014         100\n",
       "14     zebra     1015          80\n",
       "15      lion     1016         420\n",
       "16      lion     1017         600\n",
       "17      lion     1018         500\n",
       "18      lion     1019         390\n",
       "19  kangaroo     1020         410\n",
       "20  kangaroo     1021         430\n",
       "21  kangaroo     1022         410"
      ]
     },
     "execution_count": 2,
     "metadata": {},
     "output_type": "execute_result"
    }
   ],
   "source": [
    "zoo = pd.read_csv(\"../data/extracted/Zoo/zoo.csv\")\n",
    "zoo"
   ]
  },
  {
   "cell_type": "code",
   "execution_count": 3,
   "metadata": {},
   "outputs": [],
   "source": [
    "zoo[[\"animal\"]].count()\n",
    "zoo.animal.count()\n",
    "animalsList = list(zoo.animal)\n",
    "animalsTypes = set(animalsList)"
   ]
  },
  {
   "cell_type": "code",
   "execution_count": 4,
   "metadata": {},
   "outputs": [
    {
     "data": {
      "text/plain": [
       "(array([1., 1., 0., 0., 0., 0., 0., 0., 1., 2., 1., 1., 0., 0., 1., 2., 1.,\n",
       "        1., 0., 0., 0., 1., 2., 1., 1., 0., 0., 0., 0., 2., 0., 0., 1., 0.,\n",
       "        0., 2.]),\n",
       " array([ 80.        ,  94.44444444, 108.88888889, 123.33333333,\n",
       "        137.77777778, 152.22222222, 166.66666667, 181.11111111,\n",
       "        195.55555556, 210.        , 224.44444444, 238.88888889,\n",
       "        253.33333333, 267.77777778, 282.22222222, 296.66666667,\n",
       "        311.11111111, 325.55555556, 340.        , 354.44444444,\n",
       "        368.88888889, 383.33333333, 397.77777778, 412.22222222,\n",
       "        426.66666667, 441.11111111, 455.55555556, 470.        ,\n",
       "        484.44444444, 498.88888889, 513.33333333, 527.77777778,\n",
       "        542.22222222, 556.66666667, 571.11111111, 585.55555556,\n",
       "        600.        ]),\n",
       " <a list of 36 Patch objects>)"
      ]
     },
     "execution_count": 4,
     "metadata": {},
     "output_type": "execute_result"
    },
    {
     "data": {
      "image/png": "[encoded data removed]",
      "text/plain": [
       "<Figure size 432x288 with 1 Axes>"
      ]
     },
     "metadata": {
      "needs_background": "light"
     },
     "output_type": "display_data"
    }
   ],
   "source": [
    "waterNeeded = zoo.water_need\n",
    "waterNeeded.sum()\n",
    "waterNeeded.min()\n",
    "waterNeeded.max()\n",
    "waterNeeded.mean()\n",
    "waterNeeded.median()\n",
    "plt.hist(waterNeeded, color='blue', edgecolor='black', bins=int(180/5))"
   ]
  },
  {
   "cell_type": "code",
   "execution_count": 5,
   "metadata": {},
   "outputs": [
    {
     "data": {
      "image/png": "[encoded data removed]",
      "text/plain": [
       "<Figure size 432x288 with 1 Axes>"
      ]
     },
     "metadata": {
      "needs_background": "light"
     },
     "output_type": "display_data"
    }
   ],
   "source": [
    "waterGroupedMean = zoo.groupby(\"animal\").mean()[[\"water_need\"]]\n",
    "zoo.groupby(\"animal\").mean().water_need\n",
    "\n",
    "waterGroupedSum = zoo.groupby(\"animal\").mean().water_need\n",
    "waterGroupedSum.plot.bar()\n",
    "\n",
    "sns.barplot(\n",
    "    x=\"animal\", y=\"water_need\", data=zoo,\n",
    "    capsize=.2, linewidth=2.5, facecolor=(1, 1, 1, 0),\n",
    "    errcolor=\".2\", edgecolor=\".2\"\n",
    ")\n",
    "plt.savefig('./images/zoo.png', dpi=500)"
   ]
  },
  {
   "cell_type": "code",
   "execution_count": 9,
   "metadata": {},
   "outputs": [
    {
     "name": "stdout",
     "output_type": "stream",
     "text": [
      "\n",
      "Sum:7650\n",
      "Max:80\n",
      "Mean:347.72727272727275\n",
      "Median:325.0\n",
      "\n"
     ]
    },
    {
     "data": {
      "text/plain": [
       "(array([1., 1., 0., 0., 0., 0., 0., 0., 1., 2., 1., 1., 0., 0., 1., 2., 1.,\n",
       "        1., 0., 0., 0., 1., 2., 1., 1., 0., 0., 0., 0., 2., 0., 0., 1., 0.,\n",
       "        0., 2.]),\n",
       " array([ 80.        ,  94.44444444, 108.88888889, 123.33333333,\n",
       "        137.77777778, 152.22222222, 166.66666667, 181.11111111,\n",
       "        195.55555556, 210.        , 224.44444444, 238.88888889,\n",
       "        253.33333333, 267.77777778, 282.22222222, 296.66666667,\n",
       "        311.11111111, 325.55555556, 340.        , 354.44444444,\n",
       "        368.88888889, 383.33333333, 397.77777778, 412.22222222,\n",
       "        426.66666667, 441.11111111, 455.55555556, 470.        ,\n",
       "        484.44444444, 498.88888889, 513.33333333, 527.77777778,\n",
       "        542.22222222, 556.66666667, 571.11111111, 585.55555556,\n",
       "        600.        ]),\n",
       " <a list of 36 Patch objects>)"
      ]
     },
     "execution_count": 9,
     "metadata": {},
     "output_type": "execute_result"
    },
    {
     "data": {
      "image/png": "[encoded data removed]",
      "text/plain": [
       "<Figure size 432x288 with 1 Axes>"
      ]
     },
     "metadata": {
      "needs_background": "light"
     },
     "output_type": "display_data"
    }
   ],
   "source": [
    "waterNeeded = zoo[\"water_need\"]\n",
    "print (f\"\"\"\n",
    "Sum:{waterNeeded.sum()}\n",
    "Max:{waterNeeded.min()}\n",
    "Mean:{waterNeeded.mean()}\n",
    "Median:{waterNeeded.median()}\n",
    "\"\"\")\n",
    "plt.hist(waterNeeded, color='blue', edgecolor='black', bins=int(180/5))"
   ]
  },
  {
   "cell_type": "code",
   "execution_count": 10,
   "metadata": {},
   "outputs": [
    {
     "data": {
      "image/png": "[encoded data removed]",
      "text/plain": [
       "<Figure size 432x288 with 1 Axes>"
      ]
     },
     "metadata": {
      "needs_background": "light"
     },
     "output_type": "display_data"
    }
   ],
   "source": [
    "waterGroupedMean = zoo.groupby(\"animal\").mean()[[\"water_need\"]]\n",
    "zoo.groupby(\"animal\").mean().water_need\n",
    "\n",
    "waterGroupedSum = zoo.groupby(\"animal\").mean().water_need\n",
    "waterGroupedSum.plot.bar()\n",
    "\n",
    "plt.close()\n",
    "sns.barplot(\n",
    "    x=\"animal\", y=\"water_need\", data=zoo,\n",
    "    capsize=.2, linewidth=2.5, facecolor=(1, 1, 1, 0),\n",
    "    errcolor=\".2\", edgecolor=\".2\"\n",
    ")\n",
    "plt.savefig('./images/zoo.png', dpi=500)"
   ]
  },
  {
   "cell_type": "code",
   "execution_count": null,
   "metadata": {},
   "outputs": [],
   "source": []
  }
 ],
 "metadata": {
  "kernelspec": {
   "display_name": "biosenser",
   "language": "python",
   "name": "biosenser"
  },
  "language_info": {
   "codemirror_mode": {
    "name": "ipython",
    "version": 3
   },
   "file_extension": ".py",
   "mimetype": "text/x-python",
   "name": "python",
   "nbconvert_exporter": "python",
   "pygments_lexer": "ipython3",
   "version": "3.7.3"
  }
 },
 "nbformat": 4,
 "nbformat_minor": 2
}
