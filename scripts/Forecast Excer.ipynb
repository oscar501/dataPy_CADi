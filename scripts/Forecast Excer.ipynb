{
 "cells": [
  {
   "cell_type": "code",
   "execution_count": 3,
   "metadata": {},
   "outputs": [],
   "source": [
    "import requests\n",
    "import pandas as pd\n",
    "from bs4 import BeautifulSoup"
   ]
  },
  {
   "cell_type": "code",
   "execution_count": 4,
   "metadata": {},
   "outputs": [],
   "source": [
    "page = requests.get(\n",
    "    \"http://forecast.weather.gov/MapClick.php?lat=37.7772&lon=-122.4168\"\n",
    ")\n",
    "soup = BeautifulSoup(page.content, 'html.parser')"
   ]
  },
  {
   "cell_type": "code",
   "execution_count": 5,
   "metadata": {},
   "outputs": [],
   "source": [
    "seven_day = soup.find(id=\"seven-day-forecast\")\n",
    "forecast_items = seven_day.find_all(class_=\"tombstone-container\")"
   ]
  },
  {
   "cell_type": "code",
   "execution_count": 6,
   "metadata": {},
   "outputs": [
    {
     "name": "stdout",
     "output_type": "stream",
     "text": [
      "<div class=\"tombstone-container\">\n",
      " <p class=\"period-name\">\n",
      "  Today\n",
      "  <br/>\n",
      "  <br/>\n",
      " </p>\n",
      " <p>\n",
      "  <img alt=\"Today: Sunny, with a high near 78. West southwest wind 6 to 15 mph, with gusts as high as 20 mph. \" class=\"forecast-icon\" src=\"newimages/medium/few.png\" title=\"Today: Sunny, with a high near 78. West southwest wind 6 to 15 mph, with gusts as high as 20 mph. \"/>\n",
      " </p>\n",
      " <p class=\"short-desc\">\n",
      "  Sunny\n",
      " </p>\n",
      " <p class=\"temp temp-high\">\n",
      "  High: 78 °F\n",
      " </p>\n",
      "</div>\n"
     ]
    }
   ],
   "source": [
    "tonight = forecast_items[0]\n",
    "print(tonight.prettify())\n",
    "period = tonight.find(class_=\"period-name\").get_text()\n",
    "short_desc = tonight.find(class_=\"short-desc\").get_text()\n",
    "temp = tonight.find(class_=\"temp\").get_text()\n",
    "img = tonight.find(\"img\")\n",
    "desc = img['title']"
   ]
  },
  {
   "cell_type": "code",
   "execution_count": 7,
   "metadata": {},
   "outputs": [
    {
     "data": {
      "text/plain": [
       "['Today',\n",
       " 'Tonight',\n",
       " 'Thursday',\n",
       " 'ThursdayNight',\n",
       " 'Friday',\n",
       " 'FridayNight',\n",
       " 'Saturday',\n",
       " 'SaturdayNight',\n",
       " 'Sunday']"
      ]
     },
     "execution_count": 7,
     "metadata": {},
     "output_type": "execute_result"
    }
   ],
   "source": [
    "period_tags = seven_day.select(\".tombstone-container .period-name\")\n",
    "periods = [pt.get_text() for pt in period_tags]\n",
    "periods"
   ]
  },
  {
   "cell_type": "code",
   "execution_count": 8,
   "metadata": {},
   "outputs": [],
   "source": [
    "# Get descriptions and temperatures\n",
    "short_descs = [\n",
    "    sd.get_text() for sd in seven_day.select(\".tombstone-container .short-desc\")\n",
    "]\n",
    "temps = [t.get_text() for t in seven_day.select(\".tombstone-container .temp\")]\n",
    "descs = [d[\"title\"] for d in seven_day.select(\".tombstone-container img\")]"
   ]
  },
  {
   "cell_type": "code",
   "execution_count": 9,
   "metadata": {},
   "outputs": [],
   "source": [
    "# Creating and extending our dataframe\n",
    "weather = pd.DataFrame({\n",
    "    \"period\": periods,\n",
    "    \"short_desc\": short_descs,\n",
    "    \"temp\": temps,\n",
    "    \"desc\": descs\n",
    "})\n",
    "temp_nums = weather[\"temp\"].str.extract(\"(?P<temp_num>\\d+)\", expand=False)\n",
    "weather[\"temp_num\"] = temp_nums.astype('int')\n",
    "is_night = weather[\"temp\"].str.contains(\"Low\")\n",
    "weather[\"is_night\"] = is_night\n"
   ]
  },
  {
   "cell_type": "code",
   "execution_count": 10,
   "metadata": {},
   "outputs": [
    {
     "data": {
      "text/html": [
       "<div>\n",
       "<style scoped>\n",
       "    .dataframe tbody tr th:only-of-type {\n",
       "        vertical-align: middle;\n",
       "    }\n",
       "\n",
       "    .dataframe tbody tr th {\n",
       "        vertical-align: top;\n",
       "    }\n",
       "\n",
       "    .dataframe thead th {\n",
       "        text-align: right;\n",
       "    }\n",
       "</style>\n",
       "<table border=\"1\" class=\"dataframe\">\n",
       "  <thead>\n",
       "    <tr style=\"text-align: right;\">\n",
       "      <th></th>\n",
       "      <th>period</th>\n",
       "      <th>short_desc</th>\n",
       "      <th>temp</th>\n",
       "      <th>desc</th>\n",
       "      <th>temp_num</th>\n",
       "      <th>is_night</th>\n",
       "    </tr>\n",
       "  </thead>\n",
       "  <tbody>\n",
       "    <tr>\n",
       "      <th>0</th>\n",
       "      <td>Today</td>\n",
       "      <td>Sunny</td>\n",
       "      <td>High: 78 °F</td>\n",
       "      <td>Today: Sunny, with a high near 78. West southw...</td>\n",
       "      <td>78</td>\n",
       "      <td>False</td>\n",
       "    </tr>\n",
       "    <tr>\n",
       "      <th>1</th>\n",
       "      <td>Tonight</td>\n",
       "      <td>Patchy Fog</td>\n",
       "      <td>Low: 56 °F</td>\n",
       "      <td>Tonight: Patchy fog after 11pm.  Otherwise, in...</td>\n",
       "      <td>56</td>\n",
       "      <td>True</td>\n",
       "    </tr>\n",
       "    <tr>\n",
       "      <th>2</th>\n",
       "      <td>Thursday</td>\n",
       "      <td>Patchy Fogthen MostlySunny</td>\n",
       "      <td>High: 70 °F</td>\n",
       "      <td>Thursday: Patchy fog before 8am.  Otherwise, c...</td>\n",
       "      <td>70</td>\n",
       "      <td>False</td>\n",
       "    </tr>\n",
       "    <tr>\n",
       "      <th>3</th>\n",
       "      <td>ThursdayNight</td>\n",
       "      <td>IncreasingClouds</td>\n",
       "      <td>Low: 55 °F</td>\n",
       "      <td>Thursday Night: Increasing clouds, with a low ...</td>\n",
       "      <td>55</td>\n",
       "      <td>True</td>\n",
       "    </tr>\n",
       "    <tr>\n",
       "      <th>4</th>\n",
       "      <td>Friday</td>\n",
       "      <td>Partly Sunny</td>\n",
       "      <td>High: 69 °F</td>\n",
       "      <td>Friday: Partly sunny, with a high near 69. Wes...</td>\n",
       "      <td>69</td>\n",
       "      <td>False</td>\n",
       "    </tr>\n",
       "    <tr>\n",
       "      <th>5</th>\n",
       "      <td>FridayNight</td>\n",
       "      <td>Mostly Cloudy</td>\n",
       "      <td>Low: 55 °F</td>\n",
       "      <td>Friday Night: Mostly cloudy, with a low around...</td>\n",
       "      <td>55</td>\n",
       "      <td>True</td>\n",
       "    </tr>\n",
       "    <tr>\n",
       "      <th>6</th>\n",
       "      <td>Saturday</td>\n",
       "      <td>Partly Sunny</td>\n",
       "      <td>High: 68 °F</td>\n",
       "      <td>Saturday: Partly sunny, with a high near 68.</td>\n",
       "      <td>68</td>\n",
       "      <td>False</td>\n",
       "    </tr>\n",
       "    <tr>\n",
       "      <th>7</th>\n",
       "      <td>SaturdayNight</td>\n",
       "      <td>Mostly Cloudy</td>\n",
       "      <td>Low: 55 °F</td>\n",
       "      <td>Saturday Night: Mostly cloudy, with a low arou...</td>\n",
       "      <td>55</td>\n",
       "      <td>True</td>\n",
       "    </tr>\n",
       "    <tr>\n",
       "      <th>8</th>\n",
       "      <td>Sunday</td>\n",
       "      <td>Partly Sunny</td>\n",
       "      <td>High: 71 °F</td>\n",
       "      <td>Sunday: Partly sunny, with a high near 71.</td>\n",
       "      <td>71</td>\n",
       "      <td>False</td>\n",
       "    </tr>\n",
       "  </tbody>\n",
       "</table>\n",
       "</div>"
      ],
      "text/plain": [
       "          period                  short_desc         temp  \\\n",
       "0          Today                       Sunny  High: 78 °F   \n",
       "1        Tonight                  Patchy Fog   Low: 56 °F   \n",
       "2       Thursday  Patchy Fogthen MostlySunny  High: 70 °F   \n",
       "3  ThursdayNight            IncreasingClouds   Low: 55 °F   \n",
       "4         Friday                Partly Sunny  High: 69 °F   \n",
       "5    FridayNight               Mostly Cloudy   Low: 55 °F   \n",
       "6       Saturday                Partly Sunny  High: 68 °F   \n",
       "7  SaturdayNight               Mostly Cloudy   Low: 55 °F   \n",
       "8         Sunday                Partly Sunny  High: 71 °F   \n",
       "\n",
       "                                                desc  temp_num  is_night  \n",
       "0  Today: Sunny, with a high near 78. West southw...        78     False  \n",
       "1  Tonight: Patchy fog after 11pm.  Otherwise, in...        56      True  \n",
       "2  Thursday: Patchy fog before 8am.  Otherwise, c...        70     False  \n",
       "3  Thursday Night: Increasing clouds, with a low ...        55      True  \n",
       "4  Friday: Partly sunny, with a high near 69. Wes...        69     False  \n",
       "5  Friday Night: Mostly cloudy, with a low around...        55      True  \n",
       "6       Saturday: Partly sunny, with a high near 68.        68     False  \n",
       "7  Saturday Night: Mostly cloudy, with a low arou...        55      True  \n",
       "8         Sunday: Partly sunny, with a high near 71.        71     False  "
      ]
     },
     "execution_count": 10,
     "metadata": {},
     "output_type": "execute_result"
    }
   ],
   "source": [
    "# Our full dataframe\n",
    "weather"
   ]
  },
  {
   "cell_type": "code",
   "execution_count": null,
   "metadata": {},
   "outputs": [],
   "source": []
  }
 ],
 "metadata": {
  "kernelspec": {
   "display_name": "biosenser",
   "language": "python",
   "name": "biosenser"
  },
  "language_info": {
   "codemirror_mode": {
    "name": "ipython",
    "version": 3
   },
   "file_extension": ".py",
   "mimetype": "text/x-python",
   "name": "python",
   "nbconvert_exporter": "python",
   "pygments_lexer": "ipython3",
   "version": "3.7.3"
  }
 },
 "nbformat": 4,
 "nbformat_minor": 2
}
